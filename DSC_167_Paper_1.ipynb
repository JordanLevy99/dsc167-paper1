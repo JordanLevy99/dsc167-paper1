{
 "cells": [
  {
   "cell_type": "markdown",
   "metadata": {
    "colab_type": "text",
    "id": "view-in-github"
   },
   "source": [
    "<a href=\"https://colab.research.google.com/github/JordanLevy99/dsc167-paper1/blob/master/DSC_167_Paper_1.ipynb\" target=\"_parent\"><img src=\"https://colab.research.google.com/assets/colab-badge.svg\" alt=\"Open In Colab\"/></a>"
   ]
  },
  {
   "cell_type": "code",
   "execution_count": 1,
   "metadata": {},
   "outputs": [
    {
     "data": {
      "text/plain": [
       "'/Users/jordanlevy/Documents/UCSD/Senior/Quarter 3/DSC 167/dsc167-paper1'"
      ]
     },
     "execution_count": 1,
     "metadata": {},
     "output_type": "execute_result"
    }
   ],
   "source": [
    "pwd"
   ]
  },
  {
   "cell_type": "code",
   "execution_count": 2,
   "metadata": {
    "id": "vkmWpG02Mi_a"
   },
   "outputs": [],
   "source": [
    "import os\n",
    "# os.chdir('dsc167-paper1')\n"
   ]
  },
  {
   "cell_type": "code",
   "execution_count": 3,
   "metadata": {
    "id": "cXhR5xbSwFyd"
   },
   "outputs": [],
   "source": [
    "import pandas as pd\n",
    "import numpy as np\n",
    "\n",
    "import matplotlib.pyplot as plt\n",
    "from sklearn import metrics"
   ]
  },
  {
   "cell_type": "code",
   "execution_count": 4,
   "metadata": {
    "id": "Y3ZEFujL7xZj"
   },
   "outputs": [],
   "source": [
    "# from google.colab import drive\n",
    "# drive.mount('/content/drive')"
   ]
  },
  {
   "cell_type": "code",
   "execution_count": 5,
   "metadata": {
    "colab": {
     "base_uri": "https://localhost:8080/"
    },
    "id": "SfkSV9h96W9U",
    "outputId": "cd25e2a3-36ea-4345-a56f-71b756d60c11"
   },
   "outputs": [
    {
     "name": "stderr",
     "output_type": "stream",
     "text": [
      "/Users/jordanlevy/opt/anaconda3/lib/python3.7/site-packages/IPython/core/interactiveshell.py:3063: DtypeWarning: Columns (6,10,22,27) have mixed types.Specify dtype option on import or set low_memory=False.\n",
      "  interactivity=interactivity, compiler=compiler, result=result)\n"
     ]
    }
   ],
   "source": [
    "oakland = pd.read_csv('data/ca_oakland_2020_04_01.csv')"
   ]
  },
  {
   "cell_type": "markdown",
   "metadata": {},
   "source": [
    "**Differences by Location**"
   ]
  },
  {
   "cell_type": "code",
   "execution_count": 9,
   "metadata": {},
   "outputs": [
    {
     "data": {
      "text/plain": [
       "count    133293.000000\n",
       "mean         37.787397\n",
       "std           0.028434\n",
       "min          37.415738\n",
       "25%          37.765075\n",
       "50%          37.786213\n",
       "75%          37.809163\n",
       "max          38.133225\n",
       "Name: lat, dtype: float64"
      ]
     },
     "execution_count": 9,
     "metadata": {},
     "output_type": "execute_result"
    }
   ],
   "source": [
    "oakland['lat'].describe()"
   ]
  },
  {
   "cell_type": "code",
   "execution_count": null,
   "metadata": {},
   "outputs": [],
   "source": []
  },
  {
   "cell_type": "code",
   "execution_count": 20,
   "metadata": {},
   "outputs": [],
   "source": [
    "oakland = oakland.loc[set(oakland.index)-(set(oakland['lng'].nlargest(4).index))]"
   ]
  },
  {
   "cell_type": "code",
   "execution_count": 29,
   "metadata": {},
   "outputs": [
    {
     "data": {
      "text/plain": [
       "other             27400\n",
       "probable cause    12710\n",
       "consent            1043\n",
       "Name: search_basis, dtype: int64"
      ]
     },
     "execution_count": 29,
     "metadata": {},
     "output_type": "execute_result"
    }
   ],
   "source": [
    "oakland['search_basis'].value_counts()"
   ]
  },
  {
   "cell_type": "markdown",
   "metadata": {},
   "source": [
    "**Luck Egalitarianism**: certain neighborhoods are more likely to have traffic stops, compare the TP- and FP- rates among these different neighborhoods."
   ]
  },
  {
   "cell_type": "code",
   "execution_count": 32,
   "metadata": {},
   "outputs": [
    {
     "data": {
      "text/plain": [
       "0           NaN\n",
       "1         False\n",
       "2         False\n",
       "3           NaN\n",
       "4           NaN\n",
       "          ...  \n",
       "133402     True\n",
       "133403     True\n",
       "133404     True\n",
       "133405      NaN\n",
       "133406    False\n",
       "Name: contraband_drugs, Length: 133403, dtype: object"
      ]
     },
     "execution_count": 32,
     "metadata": {},
     "output_type": "execute_result"
    }
   ],
   "source": [
    "[(oakland['contraband_drugs']==True)]"
   ]
  },
  {
   "cell_type": "code",
   "execution_count": 27,
   "metadata": {},
   "outputs": [
    {
     "data": {
      "text/plain": [
       "Index(['raw_row_number', 'date', 'time', 'location', 'lat', 'lng', 'beat',\n",
       "       'subject_age', 'subject_race', 'subject_sex', 'officer_assignment',\n",
       "       'type', 'arrest_made', 'citation_issued', 'warning_issued', 'outcome',\n",
       "       'contraband_found', 'contraband_drugs', 'contraband_weapons',\n",
       "       'search_conducted', 'search_basis', 'reason_for_stop',\n",
       "       'use_of_force_description', 'raw_subject_sdrace',\n",
       "       'raw_subject_resultofencounter', 'raw_subject_searchconducted',\n",
       "       'raw_subject_typeofsearch', 'raw_subject_resultofsearch'],\n",
       "      dtype='object')"
      ]
     },
     "execution_count": 27,
     "metadata": {},
     "output_type": "execute_result"
    }
   ],
   "source": [
    "oakland['contraband_drugs']"
   ]
  },
  {
   "cell_type": "code",
   "execution_count": 21,
   "metadata": {},
   "outputs": [
    {
     "data": {
      "text/plain": [
       "<matplotlib.axes._subplots.AxesSubplot at 0x1a250c9e90>"
      ]
     },
     "execution_count": 21,
     "metadata": {},
     "output_type": "execute_result"
    },
    {
     "data": {
      "image/png": "[encoded data removed]",
      "text/plain": [
       "<Figure size 432x288 with 1 Axes>"
      ]
     },
     "metadata": {
      "needs_background": "light"
     },
     "output_type": "display_data"
    }
   ],
   "source": [
    "oakland['lat'].hist(bins=60)"
   ]
  },
  {
   "cell_type": "code",
   "execution_count": null,
   "metadata": {
    "colab": {
     "base_uri": "https://localhost:8080/"
    },
    "id": "75gesxpQ9UYD",
    "outputId": "4f30582d-d0cd-4c20-e3d1-1e8fa05dc407"
   },
   "outputs": [
    {
     "data": {
      "text/plain": [
       "Index(['raw_row_number', 'date', 'time', 'location', 'lat', 'lng', 'beat',\n",
       "       'subject_age', 'subject_race', 'subject_sex', 'officer_assignment',\n",
       "       'type', 'arrest_made', 'citation_issued', 'warning_issued', 'outcome',\n",
       "       'contraband_found', 'contraband_drugs', 'contraband_weapons',\n",
       "       'search_conducted', 'search_basis', 'reason_for_stop',\n",
       "       'use_of_force_description', 'raw_subject_sdrace',\n",
       "       'raw_subject_resultofencounter', 'raw_subject_searchconducted',\n",
       "       'raw_subject_typeofsearch', 'raw_subject_resultofsearch'],\n",
       "      dtype='object')"
      ]
     },
     "execution_count": 11,
     "metadata": {
      "tags": []
     },
     "output_type": "execute_result"
    }
   ],
   "source": [
    "oakland.columns"
   ]
  },
  {
   "cell_type": "code",
   "execution_count": 9,
   "metadata": {
    "colab": {
     "base_uri": "https://localhost:8080/"
    },
    "id": "OxW08lprNKEx",
    "outputId": "a64e8754-d3c7-427f-fc03-e1818f032cdf"
   },
   "outputs": [
    {
     "data": {
      "text/plain": [
       "other             27402\n",
       "probable cause    12712\n",
       "consent            1043\n",
       "Name: search_basis, dtype: int64"
      ]
     },
     "execution_count": 9,
     "metadata": {},
     "output_type": "execute_result"
    }
   ],
   "source": [
    "oakland[\"search_basis\"].value_counts()"
   ]
  },
  {
   "cell_type": "code",
   "execution_count": 10,
   "metadata": {
    "id": "6rKeELSlMlE2"
   },
   "outputs": [],
   "source": [
    "# oakland[(oakland[\"contraband_found\"] == False) & (oakland[\"arrest_made\"] == True)]"
   ]
  },
  {
   "cell_type": "code",
   "execution_count": 11,
   "metadata": {
    "colab": {
     "base_uri": "https://localhost:8080/",
     "height": 406
    },
    "id": "VIoe6BFP-uNI",
    "outputId": "6cbc5fd9-4d08-443d-9da5-1b2bd6b01554"
   },
   "outputs": [
    {
     "data": {
      "text/html": [
       "<div>\n",
       "<style scoped>\n",
       "    .dataframe tbody tr th:only-of-type {\n",
       "        vertical-align: middle;\n",
       "    }\n",
       "\n",
       "    .dataframe tbody tr th {\n",
       "        vertical-align: top;\n",
       "    }\n",
       "\n",
       "    .dataframe thead th {\n",
       "        text-align: right;\n",
       "    }\n",
       "</style>\n",
       "<table border=\"1\" class=\"dataframe\">\n",
       "  <thead>\n",
       "    <tr style=\"text-align: right;\">\n",
       "      <th></th>\n",
       "      <th>raw_row_number</th>\n",
       "      <th>date</th>\n",
       "      <th>time</th>\n",
       "      <th>location</th>\n",
       "      <th>lat</th>\n",
       "      <th>lng</th>\n",
       "      <th>beat</th>\n",
       "      <th>subject_age</th>\n",
       "      <th>subject_race</th>\n",
       "      <th>subject_sex</th>\n",
       "      <th>...</th>\n",
       "      <th>contraband_weapons</th>\n",
       "      <th>search_conducted</th>\n",
       "      <th>search_basis</th>\n",
       "      <th>reason_for_stop</th>\n",
       "      <th>use_of_force_description</th>\n",
       "      <th>raw_subject_sdrace</th>\n",
       "      <th>raw_subject_resultofencounter</th>\n",
       "      <th>raw_subject_searchconducted</th>\n",
       "      <th>raw_subject_typeofsearch</th>\n",
       "      <th>raw_subject_resultofsearch</th>\n",
       "    </tr>\n",
       "  </thead>\n",
       "  <tbody>\n",
       "    <tr>\n",
       "      <th>22</th>\n",
       "      <td>36</td>\n",
       "      <td>2013-04-01</td>\n",
       "      <td>23:41:00</td>\n",
       "      <td>800 23RD St</td>\n",
       "      <td>37.799486</td>\n",
       "      <td>-122.242997</td>\n",
       "      <td>NaN</td>\n",
       "      <td>NaN</td>\n",
       "      <td>black</td>\n",
       "      <td>female</td>\n",
       "      <td>...</td>\n",
       "      <td>False</td>\n",
       "      <td>True</td>\n",
       "      <td>other</td>\n",
       "      <td>Consensual Encounter</td>\n",
       "      <td>NaN</td>\n",
       "      <td>B</td>\n",
       "      <td>Misdemeanor Arrest,</td>\n",
       "      <td>Yes</td>\n",
       "      <td>Incident to Arrest,</td>\n",
       "      <td>NaN</td>\n",
       "    </tr>\n",
       "    <tr>\n",
       "      <th>48</th>\n",
       "      <td>58|59</td>\n",
       "      <td>2013-04-02</td>\n",
       "      <td>11:39:00</td>\n",
       "      <td>9700 Blk Empire Rd</td>\n",
       "      <td>37.731753</td>\n",
       "      <td>-122.193366</td>\n",
       "      <td>NaN</td>\n",
       "      <td>NaN</td>\n",
       "      <td>black</td>\n",
       "      <td>male</td>\n",
       "      <td>...</td>\n",
       "      <td>False</td>\n",
       "      <td>True</td>\n",
       "      <td>other</td>\n",
       "      <td>Probable Cause</td>\n",
       "      <td>NaN</td>\n",
       "      <td>B</td>\n",
       "      <td>FI Report,|Felony Arrest,</td>\n",
       "      <td>No|Yes</td>\n",
       "      <td>NA|Incident to Arrest,</td>\n",
       "      <td>NaN</td>\n",
       "    </tr>\n",
       "    <tr>\n",
       "      <th>49</th>\n",
       "      <td>60</td>\n",
       "      <td>2013-04-02</td>\n",
       "      <td>12:36:00</td>\n",
       "      <td>3400 MARTIN LUTHER KING JR WY</td>\n",
       "      <td>37.823398</td>\n",
       "      <td>-122.270024</td>\n",
       "      <td>NaN</td>\n",
       "      <td>NaN</td>\n",
       "      <td>black</td>\n",
       "      <td>male</td>\n",
       "      <td>...</td>\n",
       "      <td>False</td>\n",
       "      <td>True</td>\n",
       "      <td>other</td>\n",
       "      <td>Reasonable Suspicion</td>\n",
       "      <td>NaN</td>\n",
       "      <td>B</td>\n",
       "      <td>Felony Arrest,</td>\n",
       "      <td>Yes</td>\n",
       "      <td>Incident to Arrest,</td>\n",
       "      <td>NaN</td>\n",
       "    </tr>\n",
       "    <tr>\n",
       "      <th>51</th>\n",
       "      <td>62</td>\n",
       "      <td>2013-04-02</td>\n",
       "      <td>13:00:00</td>\n",
       "      <td>4578 International Blvd</td>\n",
       "      <td>37.771103</td>\n",
       "      <td>-122.211728</td>\n",
       "      <td>NaN</td>\n",
       "      <td>NaN</td>\n",
       "      <td>other</td>\n",
       "      <td>male</td>\n",
       "      <td>...</td>\n",
       "      <td>False</td>\n",
       "      <td>True</td>\n",
       "      <td>other</td>\n",
       "      <td>Consensual Encounter</td>\n",
       "      <td>NaN</td>\n",
       "      <td>O</td>\n",
       "      <td>Felony Arrest,</td>\n",
       "      <td>Yes</td>\n",
       "      <td>Incident to Arrest,</td>\n",
       "      <td>NaN</td>\n",
       "    </tr>\n",
       "    <tr>\n",
       "      <th>60</th>\n",
       "      <td>71</td>\n",
       "      <td>2013-04-02</td>\n",
       "      <td>15:16:00</td>\n",
       "      <td>100th Ave &amp; Walnut St</td>\n",
       "      <td>37.743387</td>\n",
       "      <td>-122.166924</td>\n",
       "      <td>NaN</td>\n",
       "      <td>NaN</td>\n",
       "      <td>black</td>\n",
       "      <td>male</td>\n",
       "      <td>...</td>\n",
       "      <td>False</td>\n",
       "      <td>True</td>\n",
       "      <td>probable cause</td>\n",
       "      <td>Probable Cause</td>\n",
       "      <td>NaN</td>\n",
       "      <td>B</td>\n",
       "      <td>Misdemeanor Arrest,</td>\n",
       "      <td>Yes</td>\n",
       "      <td>Weapons,</td>\n",
       "      <td>NaN</td>\n",
       "    </tr>\n",
       "  </tbody>\n",
       "</table>\n",
       "<p>5 rows × 28 columns</p>\n",
       "</div>"
      ],
      "text/plain": [
       "   raw_row_number        date      time                       location  \\\n",
       "22             36  2013-04-01  23:41:00                    800 23RD St   \n",
       "48          58|59  2013-04-02  11:39:00             9700 Blk Empire Rd   \n",
       "49             60  2013-04-02  12:36:00  3400 MARTIN LUTHER KING JR WY   \n",
       "51             62  2013-04-02  13:00:00        4578 International Blvd   \n",
       "60             71  2013-04-02  15:16:00          100th Ave & Walnut St   \n",
       "\n",
       "          lat         lng beat  subject_age subject_race subject_sex  ...  \\\n",
       "22  37.799486 -122.242997  NaN          NaN        black      female  ...   \n",
       "48  37.731753 -122.193366  NaN          NaN        black        male  ...   \n",
       "49  37.823398 -122.270024  NaN          NaN        black        male  ...   \n",
       "51  37.771103 -122.211728  NaN          NaN        other        male  ...   \n",
       "60  37.743387 -122.166924  NaN          NaN        black        male  ...   \n",
       "\n",
       "   contraband_weapons search_conducted    search_basis       reason_for_stop  \\\n",
       "22              False             True           other  Consensual Encounter   \n",
       "48              False             True           other        Probable Cause   \n",
       "49              False             True           other  Reasonable Suspicion   \n",
       "51              False             True           other  Consensual Encounter   \n",
       "60              False             True  probable cause        Probable Cause   \n",
       "\n",
       "    use_of_force_description raw_subject_sdrace raw_subject_resultofencounter  \\\n",
       "22                       NaN                  B           Misdemeanor Arrest,   \n",
       "48                       NaN                  B     FI Report,|Felony Arrest,   \n",
       "49                       NaN                  B                Felony Arrest,   \n",
       "51                       NaN                  O                Felony Arrest,   \n",
       "60                       NaN                  B           Misdemeanor Arrest,   \n",
       "\n",
       "   raw_subject_searchconducted raw_subject_typeofsearch  \\\n",
       "22                         Yes      Incident to Arrest,   \n",
       "48                      No|Yes   NA|Incident to Arrest,   \n",
       "49                         Yes      Incident to Arrest,   \n",
       "51                         Yes      Incident to Arrest,   \n",
       "60                         Yes                 Weapons,   \n",
       "\n",
       "    raw_subject_resultofsearch  \n",
       "22                         NaN  \n",
       "48                         NaN  \n",
       "49                         NaN  \n",
       "51                         NaN  \n",
       "60                         NaN  \n",
       "\n",
       "[5 rows x 28 columns]"
      ]
     },
     "execution_count": 11,
     "metadata": {},
     "output_type": "execute_result"
    }
   ],
   "source": [
    "oakland[(oakland[\"contraband_found\"] == False) & (oakland[\"arrest_made\"] == True)].head()"
   ]
  },
  {
   "cell_type": "code",
   "execution_count": 34,
   "metadata": {
    "colab": {
     "base_uri": "https://localhost:8080/"
    },
    "id": "5y0PB9jzGeRt",
    "outputId": "c5c569cc-3a33-47a2-9327-3fa0098cf075"
   },
   "outputs": [
    {
     "name": "stdout",
     "output_type": "stream",
     "text": [
      "Black Population: 78921\n",
      "Hispanic Population: 26257\n",
      "White Population: 15628\n",
      "Asian + PI Population: 8099\n"
     ]
    }
   ],
   "source": [
    "#pd.crosstab(oakland['search_conducted'], oakland['contraband_found'], normalize=True, margins=True)\n",
    "\n",
    "\n",
    "b_search = oakland[oakland['subject_race'] == 'black']\n",
    "w_search = oakland[oakland['subject_race'] == 'white']\n",
    "h_search = oakland[oakland['subject_race'] == 'hispanic']\n",
    "a_search = oakland[oakland['subject_race'] == 'asian/pacific islander']\n",
    "\n",
    "print(\"Black Population:\", len(b_search))\n",
    "print(\"Hispanic Population:\", len(h_search))\n",
    "print(\"White Population:\", len(w_search))\n",
    "print(\"Asian + PI Population:\", len(a_search))\n",
    "\n"
   ]
  },
  {
   "cell_type": "code",
   "execution_count": 13,
   "metadata": {
    "colab": {
     "base_uri": "https://localhost:8080/",
     "height": 486
    },
    "id": "2OzWrDbGPWAY",
    "outputId": "60306ad7-1f5a-4446-8207-3f63cce8f17f"
   },
   "outputs": [
    {
     "data": {
      "image/png": "[encoded data removed]",
      "text/plain": [
       "<Figure size 1008x432 with 2 Axes>"
      ]
     },
     "metadata": {
      "needs_background": "light"
     },
     "output_type": "display_data"
    }
   ],
   "source": [
    "fig, axes = plt.subplots(1,2, figsize=(14,6))\n",
    "\n",
    "(\n",
    "    oakland.subject_race.value_counts(normalize=True)\n",
    "    .plot(kind='bar', title='Distribution of race among defendants', ax=axes[0])\n",
    ")\n",
    "\n",
    "(\n",
    "    oakland.subject_sex.value_counts(normalize=True)\n",
    "    .plot(kind='bar', title='Proportion of women vs men', ax=axes[1])\n",
    ");"
   ]
  },
  {
   "cell_type": "code",
   "execution_count": 38,
   "metadata": {
    "colab": {
     "base_uri": "https://localhost:8080/",
     "height": 232
    },
    "id": "2Y3c0AiTPSlC",
    "outputId": "a37dcaca-c43b-4b2a-a595-56d1a1591adc"
   },
   "outputs": [],
   "source": [
    "contra_search = pd.concat([\n",
    "    pd.crosstab(b_search['search_conducted'], b_search['contraband_found'], normalize=True, margins=False),\n",
    "    pd.crosstab(w_search['search_conducted'], w_search['contraband_found'], normalize=True, margins=False),\n",
    "    pd.crosstab(a_search['search_conducted'], a_search['contraband_found'], normalize=True, margins=False),\n",
    "    pd.crosstab(h_search['search_conducted'], h_search['contraband_found'], normalize=True, margins=False)     \n",
    "], axis=1, keys=['Black', 'White', 'Asian', 'Hispanic'])"
   ]
  },
  {
   "cell_type": "code",
   "execution_count": 41,
   "metadata": {},
   "outputs": [
    {
     "data": {
      "text/html": [
       "<div>\n",
       "<style scoped>\n",
       "    .dataframe tbody tr th:only-of-type {\n",
       "        vertical-align: middle;\n",
       "    }\n",
       "\n",
       "    .dataframe tbody tr th {\n",
       "        vertical-align: top;\n",
       "    }\n",
       "\n",
       "    .dataframe thead tr th {\n",
       "        text-align: left;\n",
       "    }\n",
       "\n",
       "    .dataframe thead tr:last-of-type th {\n",
       "        text-align: right;\n",
       "    }\n",
       "</style>\n",
       "<table border=\"1\" class=\"dataframe\">\n",
       "  <thead>\n",
       "    <tr>\n",
       "      <th></th>\n",
       "      <th colspan=\"2\" halign=\"left\">Black</th>\n",
       "      <th colspan=\"2\" halign=\"left\">White</th>\n",
       "      <th colspan=\"2\" halign=\"left\">Asian</th>\n",
       "      <th colspan=\"2\" halign=\"left\">Hispanic</th>\n",
       "    </tr>\n",
       "    <tr>\n",
       "      <th>contraband_found</th>\n",
       "      <th>False</th>\n",
       "      <th>True</th>\n",
       "      <th>False</th>\n",
       "      <th>True</th>\n",
       "      <th>False</th>\n",
       "      <th>True</th>\n",
       "      <th>False</th>\n",
       "      <th>True</th>\n",
       "    </tr>\n",
       "    <tr>\n",
       "      <th>search_conducted</th>\n",
       "      <th></th>\n",
       "      <th></th>\n",
       "      <th></th>\n",
       "      <th></th>\n",
       "      <th></th>\n",
       "      <th></th>\n",
       "      <th></th>\n",
       "      <th></th>\n",
       "    </tr>\n",
       "  </thead>\n",
       "  <tbody>\n",
       "    <tr>\n",
       "      <th>True</th>\n",
       "      <td>0.854702</td>\n",
       "      <td>0.145298</td>\n",
       "      <td>0.82875</td>\n",
       "      <td>0.17125</td>\n",
       "      <td>0.865031</td>\n",
       "      <td>0.134969</td>\n",
       "      <td>0.833978</td>\n",
       "      <td>0.166022</td>\n",
       "    </tr>\n",
       "  </tbody>\n",
       "</table>\n",
       "</div>"
      ],
      "text/plain": [
       "                     Black              White              Asian            \\\n",
       "contraband_found     False     True     False    True      False     True    \n",
       "search_conducted                                                             \n",
       "True              0.854702  0.145298  0.82875  0.17125  0.865031  0.134969   \n",
       "\n",
       "                  Hispanic            \n",
       "contraband_found     False     True   \n",
       "search_conducted                      \n",
       "True              0.833978  0.166022  "
      ]
     },
     "execution_count": 41,
     "metadata": {},
     "output_type": "execute_result"
    }
   ],
   "source": [
    "contra_search"
   ]
  },
  {
   "cell_type": "code",
   "execution_count": 15,
   "metadata": {
    "id": "wFb37VjCeBxO"
   },
   "outputs": [],
   "source": [
    "# parity measures...\n",
    "# Demo\n"
   ]
  },
  {
   "cell_type": "code",
   "execution_count": 16,
   "metadata": {
    "colab": {
     "base_uri": "https://localhost:8080/"
    },
    "id": "8JfeXuC9Rs8E",
    "outputId": "660eac3b-4a7b-4c78-f8d1-f7c16ebdb182"
   },
   "outputs": [
    {
     "name": "stderr",
     "output_type": "stream",
     "text": [
      "/Users/jordanlevy/opt/anaconda3/lib/python3.7/site-packages/ipykernel_launcher.py:2: SettingWithCopyWarning: \n",
      "A value is trying to be set on a copy of a slice from a DataFrame.\n",
      "Try using .loc[row_indexer,col_indexer] = value instead\n",
      "\n",
      "See the caveats in the documentation: https://pandas.pydata.org/pandas-docs/stable/user_guide/indexing.html#returning-a-view-versus-a-copy\n",
      "  \n",
      "/Users/jordanlevy/opt/anaconda3/lib/python3.7/site-packages/ipykernel_launcher.py:5: SettingWithCopyWarning: \n",
      "A value is trying to be set on a copy of a slice from a DataFrame.\n",
      "Try using .loc[row_indexer,col_indexer] = value instead\n",
      "\n",
      "See the caveats in the documentation: https://pandas.pydata.org/pandas-docs/stable/user_guide/indexing.html#returning-a-view-versus-a-copy\n",
      "  \"\"\"\n",
      "/Users/jordanlevy/opt/anaconda3/lib/python3.7/site-packages/ipykernel_launcher.py:8: SettingWithCopyWarning: \n",
      "A value is trying to be set on a copy of a slice from a DataFrame.\n",
      "Try using .loc[row_indexer,col_indexer] = value instead\n",
      "\n",
      "See the caveats in the documentation: https://pandas.pydata.org/pandas-docs/stable/user_guide/indexing.html#returning-a-view-versus-a-copy\n",
      "  \n"
     ]
    }
   ],
   "source": [
    "oakland_searched_bw = oakland[(oakland[\"search_conducted\"] == True) & (oakland[\"subject_race\"].isin([\"black\", \"white\"]))]\n",
    "oakland_searched_bw['contraband_found'] = oakland_searched_bw['contraband_found'].astype('bool')\n",
    "\n",
    "oakland_searched_b = oakland[(oakland[\"search_conducted\"] == True) & (oakland[\"subject_race\"] == \"black\")]\n",
    "oakland_searched_b['contraband_found'] = oakland_searched_b['contraband_found'].astype('bool')\n",
    "\n",
    "oakland_searched_w = oakland[(oakland[\"search_conducted\"] == True) & (oakland[\"subject_race\"] == \"white\")]\n",
    "oakland_searched_w['contraband_found'] = oakland_searched_w['contraband_found'].astype('bool')"
   ]
  },
  {
   "cell_type": "code",
   "execution_count": 17,
   "metadata": {
    "colab": {
     "base_uri": "https://localhost:8080/"
    },
    "id": "_oz24OakXKtp",
    "outputId": "29b530f0-a81d-4c66-8959-536a44cb2a98"
   },
   "outputs": [
    {
     "name": "stdout",
     "output_type": "stream",
     "text": [
      "Accuracy: Proportion of searches that turned something up or True Positive\n",
      "accuracy (All):  \t 0.147263\n",
      "accuracy (Black):\t 0.145346\n",
      "accuracy (White):\t 0.171250\n"
     ]
    }
   ],
   "source": [
    "print(\"Accuracy: Proportion of searches that turned something up or True Positive\")\n",
    "print(\n",
    "    'accuracy (All):  \\t %f' % metrics.accuracy_score(oakland_searched_bw.contraband_found, oakland_searched_bw.search_conducted), \n",
    "    'accuracy (Black):\\t %f' % metrics.accuracy_score(oakland_searched_b.contraband_found, oakland_searched_b.search_conducted), \n",
    "    'accuracy (White):\\t %f' % metrics.accuracy_score(oakland_searched_w.contraband_found, oakland_searched_w.search_conducted),\n",
    "    sep='\\n'\n",
    ")"
   ]
  },
  {
   "cell_type": "code",
   "execution_count": null,
   "metadata": {
    "colab": {
     "base_uri": "https://localhost:8080/"
    },
    "id": "GtghHd9MXS9S",
    "outputId": "9e7e05a0-7b5f-4fcd-dbb3-cc252e5b3374"
   },
   "outputs": [
    {
     "name": "stdout",
     "output_type": "stream",
     "text": [
      "Absolute difference in accuracies between white and black drivers: 2.5904454621149045%\n"
     ]
    }
   ],
   "source": [
    "\n",
    "obs = (\n",
    "    oakland_searched_bw\n",
    "    .groupby('subject_race')\n",
    "    .apply(lambda x: metrics.accuracy_score(x.contraband_found, x.search_conducted))\n",
    "    .diff()\n",
    "    .iloc[-1]\n",
    ")\n",
    "\n",
    "obs = abs(obs)\n",
    "print(\"Absolute difference in accuracies between white and black drivers:\", \"{0}%\".format(obs * 100))"
   ]
  },
  {
   "cell_type": "code",
   "execution_count": null,
   "metadata": {
    "colab": {
     "base_uri": "https://localhost:8080/",
     "height": 298
    },
    "id": "3QzF_OlOQAnF",
    "outputId": "5c153796-36b5-46c3-9b65-663eb1273714"
   },
   "outputs": [
    {
     "name": "stdout",
     "output_type": "stream",
     "text": [
      "0.0004\n"
     ]
    },
    {
     "data": {
      "image/png": "[encoded data removed]",
      "text/plain": [
       "<Figure size 432x288 with 1 Axes>"
      ]
     },
     "metadata": {
      "needs_background": "light",
      "tags": []
     },
     "output_type": "display_data"
    }
   ],
   "source": [
    "metrs = []\n",
    "for _ in range(5000):\n",
    "    s = (\n",
    "        oakland_searched_bw\n",
    "        .assign(race=oakland_searched_bw.subject_race.sample(frac=1.0, replace=False).tolist())\n",
    "        .groupby('race')\n",
    "        .apply(lambda x: metrics.accuracy_score(x.contraband_found, x.search_conducted))\n",
    "        .diff()\n",
    "        .iloc[-1]\n",
    "    )\n",
    "\n",
    "    # should it be absolute value of s?\n",
    "    metrs.append(s) \n",
    "    \n",
    "print(pd.Series(metrs >= obs).mean())\n",
    "pd.Series(metrs).plot(kind='hist', title='Permutation Test for accuracy of contraband prediction', alpha=0.4)\n",
    "plt.scatter(obs, 0, c='r');"
   ]
  },
  {
   "cell_type": "markdown",
   "metadata": {
    "id": "YpCrsuWWjJt5"
   },
   "source": [
    "Running a permutation test results in a p-value of less 1%, which leads us to reject the hypothesis that this difference in accuracies occurred by chance"
   ]
  },
  {
   "cell_type": "code",
   "execution_count": null,
   "metadata": {
    "colab": {
     "base_uri": "https://localhost:8080/",
     "height": 173
    },
    "id": "fzKwVp8uNcCI",
    "outputId": "fc47ef58-7538-472a-b0e1-c3c1e434e79d"
   },
   "outputs": [
    {
     "data": {
      "text/html": [
       "<div>\n",
       "<style scoped>\n",
       "    .dataframe tbody tr th:only-of-type {\n",
       "        vertical-align: middle;\n",
       "    }\n",
       "\n",
       "    .dataframe tbody tr th {\n",
       "        vertical-align: top;\n",
       "    }\n",
       "\n",
       "    .dataframe thead tr th {\n",
       "        text-align: left;\n",
       "    }\n",
       "\n",
       "    .dataframe thead tr:last-of-type th {\n",
       "        text-align: right;\n",
       "    }\n",
       "</style>\n",
       "<table border=\"1\" class=\"dataframe\">\n",
       "  <thead>\n",
       "    <tr>\n",
       "      <th></th>\n",
       "      <th colspan=\"4\" halign=\"left\">Black</th>\n",
       "      <th colspan=\"4\" halign=\"left\">White</th>\n",
       "    </tr>\n",
       "    <tr>\n",
       "      <th>search_basis</th>\n",
       "      <th>consent</th>\n",
       "      <th>other</th>\n",
       "      <th>probable cause</th>\n",
       "      <th>All</th>\n",
       "      <th>consent</th>\n",
       "      <th>other</th>\n",
       "      <th>probable cause</th>\n",
       "      <th>All</th>\n",
       "    </tr>\n",
       "    <tr>\n",
       "      <th>search_conducted</th>\n",
       "      <th></th>\n",
       "      <th></th>\n",
       "      <th></th>\n",
       "      <th></th>\n",
       "      <th></th>\n",
       "      <th></th>\n",
       "      <th></th>\n",
       "      <th></th>\n",
       "    </tr>\n",
       "  </thead>\n",
       "  <tbody>\n",
       "    <tr>\n",
       "      <th>True</th>\n",
       "      <td>0.023314</td>\n",
       "      <td>0.679201</td>\n",
       "      <td>0.297485</td>\n",
       "      <td>1.0</td>\n",
       "      <td>0.0325</td>\n",
       "      <td>0.678333</td>\n",
       "      <td>0.289167</td>\n",
       "      <td>1.0</td>\n",
       "    </tr>\n",
       "    <tr>\n",
       "      <th>All</th>\n",
       "      <td>0.023314</td>\n",
       "      <td>0.679201</td>\n",
       "      <td>0.297485</td>\n",
       "      <td>1.0</td>\n",
       "      <td>0.0325</td>\n",
       "      <td>0.678333</td>\n",
       "      <td>0.289167</td>\n",
       "      <td>1.0</td>\n",
       "    </tr>\n",
       "  </tbody>\n",
       "</table>\n",
       "</div>"
      ],
      "text/plain": [
       "                     Black            ...          White     \n",
       "search_basis       consent     other  ... probable cause  All\n",
       "search_conducted                      ...                    \n",
       "True              0.023314  0.679201  ...       0.289167  1.0\n",
       "All               0.023314  0.679201  ...       0.289167  1.0\n",
       "\n",
       "[2 rows x 8 columns]"
      ]
     },
     "execution_count": 42,
     "metadata": {
      "tags": []
     },
     "output_type": "execute_result"
    }
   ],
   "source": [
    "pd.concat([\n",
    "    pd.crosstab(b_search['search_conducted'], b_search['search_basis'], normalize=True, margins=True),\n",
    "    pd.crosstab(w_search['search_conducted'], w_search['search_basis'], normalize=True, margins=True)    \n",
    "], axis=1, keys=['Black', 'White'])"
   ]
  },
  {
   "cell_type": "code",
   "execution_count": null,
   "metadata": {
    "id": "iLfND1tjDHi4"
   },
   "outputs": [],
   "source": []
  }
 ],
 "metadata": {
  "colab": {
   "collapsed_sections": [],
   "include_colab_link": true,
   "name": "DSC 167 Paper 1.ipynb",
   "provenance": []
  },
  "kernelspec": {
   "display_name": "Python 3",
   "language": "python",
   "name": "python3"
  },
  "language_info": {
   "codemirror_mode": {
    "name": "ipython",
    "version": 3
   },
   "file_extension": ".py",
   "mimetype": "text/x-python",
   "name": "python",
   "nbconvert_exporter": "python",
   "pygments_lexer": "ipython3",
   "version": "3.7.6"
  }
 },
 "nbformat": 4,
 "nbformat_minor": 1
}
