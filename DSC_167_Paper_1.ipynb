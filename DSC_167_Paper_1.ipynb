{
  "nbformat": 4,
  "nbformat_minor": 0,
  "metadata": {
    "colab": {
      "name": "DSC 167 Paper 1.ipynb",
      "provenance": [],
      "collapsed_sections": [],
      "include_colab_link": true
    },
    "kernelspec": {
      "name": "python3",
      "display_name": "Python 3"
    },
    "language_info": {
      "name": "python"
    }
  },
  "cells": [
    {
      "cell_type": "markdown",
      "metadata": {
        "id": "view-in-github",
        "colab_type": "text"
      },
      "source": [
        "<a href=\"https://colab.research.google.com/github/JordanLevy99/dsc167-paper1/blob/master/DSC_167_Paper_1.ipynb\" target=\"_parent\"><img src=\"https://colab.research.google.com/assets/colab-badge.svg\" alt=\"Open In Colab\"/></a>"
      ]
    },
    {
      "cell_type": "code",
      "metadata": {
        "id": "vkmWpG02Mi_a"
      },
      "source": [
        "import os\n",
        "os.chdir('dsc167-paper1')"
      ],
      "execution_count": null,
      "outputs": []
    },
    {
      "cell_type": "code",
      "metadata": {
        "id": "cXhR5xbSwFyd"
      },
      "source": [
        "import pandas as pd\n",
        "import numpy as np\n",
        "\n",
        "import matplotlib.pyplot as plt\n",
        "from sklearn import metrics"
      ],
      "execution_count": null,
      "outputs": []
    },
    {
      "cell_type": "code",
      "metadata": {
        "id": "Y3ZEFujL7xZj"
      },
      "source": [
        "# from google.colab import drive\n",
        "# drive.mount('/content/drive')"
      ],
      "execution_count": null,
      "outputs": []
    },
    {
      "cell_type": "code",
      "metadata": {
        "id": "SfkSV9h96W9U",
        "colab": {
          "base_uri": "https://localhost:8080/"
        },
        "outputId": "cd25e2a3-36ea-4345-a56f-71b756d60c11"
      },
      "source": [
        "oakland = pd.read_csv('data/ca_oakland_2020_04_01.csv')"
      ],
      "execution_count": null,
      "outputs": [
        {
          "output_type": "stream",
          "text": [
            "/Users/jordanlevy/opt/anaconda3/lib/python3.7/site-packages/IPython/core/interactiveshell.py:3063: DtypeWarning: Columns (6,10,22,27) have mixed types.Specify dtype option on import or set low_memory=False.\n",
            "  interactivity=interactivity, compiler=compiler, result=result)\n"
          ],
          "name": "stderr"
        }
      ]
    },
    {
      "cell_type": "code",
      "metadata": {
        "colab": {
          "base_uri": "https://localhost:8080/"
        },
        "id": "75gesxpQ9UYD",
        "outputId": "4f30582d-d0cd-4c20-e3d1-1e8fa05dc407"
      },
      "source": [
        "oakland.columns"
      ],
      "execution_count": null,
      "outputs": [
        {
          "output_type": "execute_result",
          "data": {
            "text/plain": [
              "Index(['raw_row_number', 'date', 'time', 'location', 'lat', 'lng', 'beat',\n",
              "       'subject_age', 'subject_race', 'subject_sex', 'officer_assignment',\n",
              "       'type', 'arrest_made', 'citation_issued', 'warning_issued', 'outcome',\n",
              "       'contraband_found', 'contraband_drugs', 'contraband_weapons',\n",
              "       'search_conducted', 'search_basis', 'reason_for_stop',\n",
              "       'use_of_force_description', 'raw_subject_sdrace',\n",
              "       'raw_subject_resultofencounter', 'raw_subject_searchconducted',\n",
              "       'raw_subject_typeofsearch', 'raw_subject_resultofsearch'],\n",
              "      dtype='object')"
            ]
          },
          "metadata": {
            "tags": []
          },
          "execution_count": 11
        }
      ]
    },
    {
      "cell_type": "code",
      "metadata": {
        "colab": {
          "base_uri": "https://localhost:8080/"
        },
        "id": "OxW08lprNKEx",
        "outputId": "a64e8754-d3c7-427f-fc03-e1818f032cdf"
      },
      "source": [
        "oakland[\"search_basis\"].value_counts()"
      ],
      "execution_count": null,
      "outputs": [
        {
          "output_type": "execute_result",
          "data": {
            "text/plain": [
              "other             27402\n",
              "probable cause    12712\n",
              "consent            1043\n",
              "Name: search_basis, dtype: int64"
            ]
          },
          "metadata": {
            "tags": []
          },
          "execution_count": 12
        }
      ]
    },
    {
      "cell_type": "code",
      "metadata": {
        "id": "6rKeELSlMlE2"
      },
      "source": [
        "# oakland[(oakland[\"contraband_found\"] == False) & (oakland[\"arrest_made\"] == True)]"
      ],
      "execution_count": null,
      "outputs": []
    },
    {
      "cell_type": "code",
      "metadata": {
        "colab": {
          "base_uri": "https://localhost:8080/",
          "height": 406
        },
        "id": "VIoe6BFP-uNI",
        "outputId": "6cbc5fd9-4d08-443d-9da5-1b2bd6b01554"
      },
      "source": [
        "oakland[(oakland[\"contraband_found\"] == False) & (oakland[\"arrest_made\"] == True)].head()"
      ],
      "execution_count": null,
      "outputs": [
        {
          "output_type": "execute_result",
          "data": {
            "text/plain": [
              "   raw_row_number        date      time                       location  \\\n",
              "22             36  2013-04-01  23:41:00                    800 23RD St   \n",
              "48          58|59  2013-04-02  11:39:00             9700 Blk Empire Rd   \n",
              "49             60  2013-04-02  12:36:00  3400 MARTIN LUTHER KING JR WY   \n",
              "51             62  2013-04-02  13:00:00        4578 International Blvd   \n",
              "60             71  2013-04-02  15:16:00          100th Ave & Walnut St   \n",
              "\n",
              "          lat         lng beat  subject_age subject_race subject_sex  ...  \\\n",
              "22  37.799486 -122.242997  NaN          NaN        black      female  ...   \n",
              "48  37.731753 -122.193366  NaN          NaN        black        male  ...   \n",
              "49  37.823398 -122.270024  NaN          NaN        black        male  ...   \n",
              "51  37.771103 -122.211728  NaN          NaN        other        male  ...   \n",
              "60  37.743387 -122.166924  NaN          NaN        black        male  ...   \n",
              "\n",
              "   contraband_weapons search_conducted    search_basis       reason_for_stop  \\\n",
              "22              False             True           other  Consensual Encounter   \n",
              "48              False             True           other        Probable Cause   \n",
              "49              False             True           other  Reasonable Suspicion   \n",
              "51              False             True           other  Consensual Encounter   \n",
              "60              False             True  probable cause        Probable Cause   \n",
              "\n",
              "    use_of_force_description raw_subject_sdrace raw_subject_resultofencounter  \\\n",
              "22                       NaN                  B           Misdemeanor Arrest,   \n",
              "48                       NaN                  B     FI Report,|Felony Arrest,   \n",
              "49                       NaN                  B                Felony Arrest,   \n",
              "51                       NaN                  O                Felony Arrest,   \n",
              "60                       NaN                  B           Misdemeanor Arrest,   \n",
              "\n",
              "   raw_subject_searchconducted raw_subject_typeofsearch  \\\n",
              "22                         Yes      Incident to Arrest,   \n",
              "48                      No|Yes   NA|Incident to Arrest,   \n",
              "49                         Yes      Incident to Arrest,   \n",
              "51                         Yes      Incident to Arrest,   \n",
              "60                         Yes                 Weapons,   \n",
              "\n",
              "    raw_subject_resultofsearch  \n",
              "22                         NaN  \n",
              "48                         NaN  \n",
              "49                         NaN  \n",
              "51                         NaN  \n",
              "60                         NaN  \n",
              "\n",
              "[5 rows x 28 columns]"
            ],
            "text/html": [
              "<div>\n",
              "<style scoped>\n",
              "    .dataframe tbody tr th:only-of-type {\n",
              "        vertical-align: middle;\n",
              "    }\n",
              "\n",
              "    .dataframe tbody tr th {\n",
              "        vertical-align: top;\n",
              "    }\n",
              "\n",
              "    .dataframe thead th {\n",
              "        text-align: right;\n",
              "    }\n",
              "</style>\n",
              "<table border=\"1\" class=\"dataframe\">\n",
              "  <thead>\n",
              "    <tr style=\"text-align: right;\">\n",
              "      <th></th>\n",
              "      <th>raw_row_number</th>\n",
              "      <th>date</th>\n",
              "      <th>time</th>\n",
              "      <th>location</th>\n",
              "      <th>lat</th>\n",
              "      <th>lng</th>\n",
              "      <th>beat</th>\n",
              "      <th>subject_age</th>\n",
              "      <th>subject_race</th>\n",
              "      <th>subject_sex</th>\n",
              "      <th>...</th>\n",
              "      <th>contraband_weapons</th>\n",
              "      <th>search_conducted</th>\n",
              "      <th>search_basis</th>\n",
              "      <th>reason_for_stop</th>\n",
              "      <th>use_of_force_description</th>\n",
              "      <th>raw_subject_sdrace</th>\n",
              "      <th>raw_subject_resultofencounter</th>\n",
              "      <th>raw_subject_searchconducted</th>\n",
              "      <th>raw_subject_typeofsearch</th>\n",
              "      <th>raw_subject_resultofsearch</th>\n",
              "    </tr>\n",
              "  </thead>\n",
              "  <tbody>\n",
              "    <tr>\n",
              "      <th>22</th>\n",
              "      <td>36</td>\n",
              "      <td>2013-04-01</td>\n",
              "      <td>23:41:00</td>\n",
              "      <td>800 23RD St</td>\n",
              "      <td>37.799486</td>\n",
              "      <td>-122.242997</td>\n",
              "      <td>NaN</td>\n",
              "      <td>NaN</td>\n",
              "      <td>black</td>\n",
              "      <td>female</td>\n",
              "      <td>...</td>\n",
              "      <td>False</td>\n",
              "      <td>True</td>\n",
              "      <td>other</td>\n",
              "      <td>Consensual Encounter</td>\n",
              "      <td>NaN</td>\n",
              "      <td>B</td>\n",
              "      <td>Misdemeanor Arrest,</td>\n",
              "      <td>Yes</td>\n",
              "      <td>Incident to Arrest,</td>\n",
              "      <td>NaN</td>\n",
              "    </tr>\n",
              "    <tr>\n",
              "      <th>48</th>\n",
              "      <td>58|59</td>\n",
              "      <td>2013-04-02</td>\n",
              "      <td>11:39:00</td>\n",
              "      <td>9700 Blk Empire Rd</td>\n",
              "      <td>37.731753</td>\n",
              "      <td>-122.193366</td>\n",
              "      <td>NaN</td>\n",
              "      <td>NaN</td>\n",
              "      <td>black</td>\n",
              "      <td>male</td>\n",
              "      <td>...</td>\n",
              "      <td>False</td>\n",
              "      <td>True</td>\n",
              "      <td>other</td>\n",
              "      <td>Probable Cause</td>\n",
              "      <td>NaN</td>\n",
              "      <td>B</td>\n",
              "      <td>FI Report,|Felony Arrest,</td>\n",
              "      <td>No|Yes</td>\n",
              "      <td>NA|Incident to Arrest,</td>\n",
              "      <td>NaN</td>\n",
              "    </tr>\n",
              "    <tr>\n",
              "      <th>49</th>\n",
              "      <td>60</td>\n",
              "      <td>2013-04-02</td>\n",
              "      <td>12:36:00</td>\n",
              "      <td>3400 MARTIN LUTHER KING JR WY</td>\n",
              "      <td>37.823398</td>\n",
              "      <td>-122.270024</td>\n",
              "      <td>NaN</td>\n",
              "      <td>NaN</td>\n",
              "      <td>black</td>\n",
              "      <td>male</td>\n",
              "      <td>...</td>\n",
              "      <td>False</td>\n",
              "      <td>True</td>\n",
              "      <td>other</td>\n",
              "      <td>Reasonable Suspicion</td>\n",
              "      <td>NaN</td>\n",
              "      <td>B</td>\n",
              "      <td>Felony Arrest,</td>\n",
              "      <td>Yes</td>\n",
              "      <td>Incident to Arrest,</td>\n",
              "      <td>NaN</td>\n",
              "    </tr>\n",
              "    <tr>\n",
              "      <th>51</th>\n",
              "      <td>62</td>\n",
              "      <td>2013-04-02</td>\n",
              "      <td>13:00:00</td>\n",
              "      <td>4578 International Blvd</td>\n",
              "      <td>37.771103</td>\n",
              "      <td>-122.211728</td>\n",
              "      <td>NaN</td>\n",
              "      <td>NaN</td>\n",
              "      <td>other</td>\n",
              "      <td>male</td>\n",
              "      <td>...</td>\n",
              "      <td>False</td>\n",
              "      <td>True</td>\n",
              "      <td>other</td>\n",
              "      <td>Consensual Encounter</td>\n",
              "      <td>NaN</td>\n",
              "      <td>O</td>\n",
              "      <td>Felony Arrest,</td>\n",
              "      <td>Yes</td>\n",
              "      <td>Incident to Arrest,</td>\n",
              "      <td>NaN</td>\n",
              "    </tr>\n",
              "    <tr>\n",
              "      <th>60</th>\n",
              "      <td>71</td>\n",
              "      <td>2013-04-02</td>\n",
              "      <td>15:16:00</td>\n",
              "      <td>100th Ave &amp; Walnut St</td>\n",
              "      <td>37.743387</td>\n",
              "      <td>-122.166924</td>\n",
              "      <td>NaN</td>\n",
              "      <td>NaN</td>\n",
              "      <td>black</td>\n",
              "      <td>male</td>\n",
              "      <td>...</td>\n",
              "      <td>False</td>\n",
              "      <td>True</td>\n",
              "      <td>probable cause</td>\n",
              "      <td>Probable Cause</td>\n",
              "      <td>NaN</td>\n",
              "      <td>B</td>\n",
              "      <td>Misdemeanor Arrest,</td>\n",
              "      <td>Yes</td>\n",
              "      <td>Weapons,</td>\n",
              "      <td>NaN</td>\n",
              "    </tr>\n",
              "  </tbody>\n",
              "</table>\n",
              "<p>5 rows × 28 columns</p>\n",
              "</div>"
            ]
          },
          "metadata": {
            "tags": []
          },
          "execution_count": 14
        }
      ]
    },
    {
      "cell_type": "code",
      "metadata": {
        "colab": {
          "base_uri": "https://localhost:8080/"
        },
        "id": "5y0PB9jzGeRt",
        "outputId": "c5c569cc-3a33-47a2-9327-3fa0098cf075"
      },
      "source": [
        "#pd.crosstab(oakland['search_conducted'], oakland['contraband_found'], normalize=True, margins=True)\n",
        "\n",
        "\n",
        "b_search = oakland[oakland['subject_race'] == 'black']\n",
        "w_search = oakland[oakland['subject_race'] == 'white']\n",
        "h_search = oakland[oakland['subject_race'] == 'hispanic']\n",
        "a_search = oakland[oakland['subject_race'] == 'asian/pacific islander']\n",
        "\n",
        "print(\"Black Population:\", len(b_search))\n",
        "print(\"Hispanic Population:\", len(h_search))\n",
        "print(\"White Population:\", len(w_search))\n",
        "print(\"Asian + PI Population:\", len(a_search))\n",
        "\n"
      ],
      "execution_count": null,
      "outputs": [
        {
          "output_type": "stream",
          "text": [
            "Black Population: 78925\n",
            "Hispanic Population: 26257\n",
            "White Population: 15628\n",
            "Asian + PI Population: 8099\n"
          ],
          "name": "stdout"
        }
      ]
    },
    {
      "cell_type": "code",
      "metadata": {
        "colab": {
          "base_uri": "https://localhost:8080/",
          "height": 486
        },
        "id": "2OzWrDbGPWAY",
        "outputId": "60306ad7-1f5a-4446-8207-3f63cce8f17f"
      },
      "source": [
        "fig, axes = plt.subplots(1,2, figsize=(14,6))\n",
        "\n",
        "(\n",
        "    oakland.subject_race.value_counts(normalize=True)\n",
        "    .plot(kind='bar', title='Distribution of race among defendants', ax=axes[0])\n",
        ")\n",
        "\n",
        "(\n",
        "    oakland.subject_sex.value_counts(normalize=True)\n",
        "    .plot(kind='bar', title='Proportion of women vs men', ax=axes[1])\n",
        ");"
      ],
      "execution_count": null,
      "outputs": [
        {
          "output_type": "display_data",
          "data": {
            "image/png": "[encoded data removed]",
            "text/plain": [
              "<Figure size 1008x432 with 2 Axes>"
            ]
          },
          "metadata": {
            "tags": [],
            "needs_background": "light"
          }
        }
      ]
    },
    {
      "cell_type": "code",
      "metadata": {
        "colab": {
          "base_uri": "https://localhost:8080/",
          "height": 232
        },
        "id": "2Y3c0AiTPSlC",
        "outputId": "a37dcaca-c43b-4b2a-a595-56d1a1591adc"
      },
      "source": [
        "contra_search = pd.concat([\n",
        "    pd.crosstab(b_search['search_conducted'], b_search['contraband_found'], normalize=True, margins=True),\n",
        "    pd.crosstab(w_search['search_conducted'], w_search['contraband_found'], normalize=True, margins=True),\n",
        "    pd.crosstab(a_search['search_conducted'], a_search['contraband_found'], normalize=True, margins=True),\n",
        "    pd.crosstab(h_search['search_conducted'], h_search['contraband_found'], normalize=True, margins=True)     \n",
        "], axis=1, keys=['Black', 'White', 'Asian', 'Hispanic'])"
      ],
      "execution_count": null,
      "outputs": [
        {
          "output_type": "error",
          "ename": "NameError",
          "evalue": "ignored",
          "traceback": [
            "\u001b[0;31m---------------------------------------------------------------------------\u001b[0m",
            "\u001b[0;31mNameError\u001b[0m                                 Traceback (most recent call last)",
            "\u001b[0;32m<ipython-input-1-2a3bfbb7d8db>\u001b[0m in \u001b[0;36m<module>\u001b[0;34m()\u001b[0m\n\u001b[0;32m----> 1\u001b[0;31m contra_search = pd.concat([\n\u001b[0m\u001b[1;32m      2\u001b[0m     \u001b[0mpd\u001b[0m\u001b[0;34m.\u001b[0m\u001b[0mcrosstab\u001b[0m\u001b[0;34m(\u001b[0m\u001b[0mb_search\u001b[0m\u001b[0;34m[\u001b[0m\u001b[0;34m'search_conducted'\u001b[0m\u001b[0;34m]\u001b[0m\u001b[0;34m,\u001b[0m \u001b[0mb_search\u001b[0m\u001b[0;34m[\u001b[0m\u001b[0;34m'contraband_found'\u001b[0m\u001b[0;34m]\u001b[0m\u001b[0;34m,\u001b[0m \u001b[0mnormalize\u001b[0m\u001b[0;34m=\u001b[0m\u001b[0;32mTrue\u001b[0m\u001b[0;34m,\u001b[0m \u001b[0mmargins\u001b[0m\u001b[0;34m=\u001b[0m\u001b[0;32mTrue\u001b[0m\u001b[0;34m)\u001b[0m\u001b[0;34m,\u001b[0m\u001b[0;34m\u001b[0m\u001b[0;34m\u001b[0m\u001b[0m\n\u001b[1;32m      3\u001b[0m     \u001b[0mpd\u001b[0m\u001b[0;34m.\u001b[0m\u001b[0mcrosstab\u001b[0m\u001b[0;34m(\u001b[0m\u001b[0mw_search\u001b[0m\u001b[0;34m[\u001b[0m\u001b[0;34m'search_conducted'\u001b[0m\u001b[0;34m]\u001b[0m\u001b[0;34m,\u001b[0m \u001b[0mw_search\u001b[0m\u001b[0;34m[\u001b[0m\u001b[0;34m'contraband_found'\u001b[0m\u001b[0;34m]\u001b[0m\u001b[0;34m,\u001b[0m \u001b[0mnormalize\u001b[0m\u001b[0;34m=\u001b[0m\u001b[0;32mTrue\u001b[0m\u001b[0;34m,\u001b[0m \u001b[0mmargins\u001b[0m\u001b[0;34m=\u001b[0m\u001b[0;32mTrue\u001b[0m\u001b[0;34m)\u001b[0m\u001b[0;34m,\u001b[0m\u001b[0;34m\u001b[0m\u001b[0;34m\u001b[0m\u001b[0m\n\u001b[1;32m      4\u001b[0m     \u001b[0mpd\u001b[0m\u001b[0;34m.\u001b[0m\u001b[0mcrosstab\u001b[0m\u001b[0;34m(\u001b[0m\u001b[0ma_search\u001b[0m\u001b[0;34m[\u001b[0m\u001b[0;34m'search_conducted'\u001b[0m\u001b[0;34m]\u001b[0m\u001b[0;34m,\u001b[0m \u001b[0ma_search\u001b[0m\u001b[0;34m[\u001b[0m\u001b[0;34m'contraband_found'\u001b[0m\u001b[0;34m]\u001b[0m\u001b[0;34m,\u001b[0m \u001b[0mnormalize\u001b[0m\u001b[0;34m=\u001b[0m\u001b[0;32mTrue\u001b[0m\u001b[0;34m,\u001b[0m \u001b[0mmargins\u001b[0m\u001b[0;34m=\u001b[0m\u001b[0;32mTrue\u001b[0m\u001b[0;34m)\u001b[0m\u001b[0;34m,\u001b[0m\u001b[0;34m\u001b[0m\u001b[0;34m\u001b[0m\u001b[0m\n\u001b[1;32m      5\u001b[0m     \u001b[0mpd\u001b[0m\u001b[0;34m.\u001b[0m\u001b[0mcrosstab\u001b[0m\u001b[0;34m(\u001b[0m\u001b[0mh_search\u001b[0m\u001b[0;34m[\u001b[0m\u001b[0;34m'search_conducted'\u001b[0m\u001b[0;34m]\u001b[0m\u001b[0;34m,\u001b[0m \u001b[0mh_search\u001b[0m\u001b[0;34m[\u001b[0m\u001b[0;34m'contraband_found'\u001b[0m\u001b[0;34m]\u001b[0m\u001b[0;34m,\u001b[0m \u001b[0mnormalize\u001b[0m\u001b[0;34m=\u001b[0m\u001b[0;32mTrue\u001b[0m\u001b[0;34m,\u001b[0m \u001b[0mmargins\u001b[0m\u001b[0;34m=\u001b[0m\u001b[0;32mTrue\u001b[0m\u001b[0;34m)\u001b[0m\u001b[0;34m\u001b[0m\u001b[0;34m\u001b[0m\u001b[0m\n",
            "\u001b[0;31mNameError\u001b[0m: name 'pd' is not defined"
          ]
        }
      ]
    },
    {
      "cell_type": "code",
      "metadata": {
        "id": "wFb37VjCeBxO"
      },
      "source": [
        "# parity measures...\n",
        "# Demo\n"
      ],
      "execution_count": null,
      "outputs": []
    },
    {
      "cell_type": "code",
      "metadata": {
        "colab": {
          "base_uri": "https://localhost:8080/"
        },
        "id": "8JfeXuC9Rs8E",
        "outputId": "660eac3b-4a7b-4c78-f8d1-f7c16ebdb182"
      },
      "source": [
        "oakland_searched_bw = oakland[(oakland[\"search_conducted\"] == True) & (oakland[\"subject_race\"].isin([\"black\", \"white\"]))]\n",
        "oakland_searched_bw['contraband_found'] = oakland_searched_bw['contraband_found'].astype('bool')\n",
        "\n",
        "oakland_searched_b = oakland[(oakland[\"search_conducted\"] == True) & (oakland[\"subject_race\"] == \"black\")]\n",
        "oakland_searched_b['contraband_found'] = oakland_searched_b['contraband_found'].astype('bool')\n",
        "\n",
        "oakland_searched_w = oakland[(oakland[\"search_conducted\"] == True) & (oakland[\"subject_race\"] == \"white\")]\n",
        "oakland_searched_w['contraband_found'] = oakland_searched_w['contraband_found'].astype('bool')"
      ],
      "execution_count": null,
      "outputs": [
        {
          "output_type": "stream",
          "text": [
            "/usr/local/lib/python3.7/dist-packages/ipykernel_launcher.py:2: SettingWithCopyWarning: \n",
            "A value is trying to be set on a copy of a slice from a DataFrame.\n",
            "Try using .loc[row_indexer,col_indexer] = value instead\n",
            "\n",
            "See the caveats in the documentation: https://pandas.pydata.org/pandas-docs/stable/user_guide/indexing.html#returning-a-view-versus-a-copy\n",
            "  \n",
            "/usr/local/lib/python3.7/dist-packages/ipykernel_launcher.py:5: SettingWithCopyWarning: \n",
            "A value is trying to be set on a copy of a slice from a DataFrame.\n",
            "Try using .loc[row_indexer,col_indexer] = value instead\n",
            "\n",
            "See the caveats in the documentation: https://pandas.pydata.org/pandas-docs/stable/user_guide/indexing.html#returning-a-view-versus-a-copy\n",
            "  \"\"\"\n",
            "/usr/local/lib/python3.7/dist-packages/ipykernel_launcher.py:8: SettingWithCopyWarning: \n",
            "A value is trying to be set on a copy of a slice from a DataFrame.\n",
            "Try using .loc[row_indexer,col_indexer] = value instead\n",
            "\n",
            "See the caveats in the documentation: https://pandas.pydata.org/pandas-docs/stable/user_guide/indexing.html#returning-a-view-versus-a-copy\n",
            "  \n"
          ],
          "name": "stderr"
        }
      ]
    },
    {
      "cell_type": "code",
      "metadata": {
        "colab": {
          "base_uri": "https://localhost:8080/"
        },
        "id": "_oz24OakXKtp",
        "outputId": "29b530f0-a81d-4c66-8959-536a44cb2a98"
      },
      "source": [
        "print(\"Accuracy: Proportion of searches that turned something up or True Positive\")\n",
        "print(\n",
        "    'accuracy (All):  \\t %f' % metrics.accuracy_score(oakland_searched_bw.contraband_found, oakland_searched_bw.search_conducted), \n",
        "    'accuracy (Black):\\t %f' % metrics.accuracy_score(oakland_searched_b.contraband_found, oakland_searched_b.search_conducted), \n",
        "    'accuracy (White):\\t %f' % metrics.accuracy_score(oakland_searched_w.contraband_found, oakland_searched_w.search_conducted),\n",
        "    sep='\\n'\n",
        ")"
      ],
      "execution_count": null,
      "outputs": [
        {
          "output_type": "stream",
          "text": [
            "Accuracy: Proportion of searches that turned something up or True Positive\n",
            "accuracy (All):  \t 0.147263\n",
            "accuracy (Black):\t 0.145346\n",
            "accuracy (White):\t 0.171250\n"
          ],
          "name": "stdout"
        }
      ]
    },
    {
      "cell_type": "code",
      "metadata": {
        "colab": {
          "base_uri": "https://localhost:8080/"
        },
        "id": "GtghHd9MXS9S",
        "outputId": "9e7e05a0-7b5f-4fcd-dbb3-cc252e5b3374"
      },
      "source": [
        "\n",
        "obs = (\n",
        "    oakland_searched_bw\n",
        "    .groupby('subject_race')\n",
        "    .apply(lambda x: metrics.accuracy_score(x.contraband_found, x.search_conducted))\n",
        "    .diff()\n",
        "    .iloc[-1]\n",
        ")\n",
        "\n",
        "obs = abs(obs)\n",
        "print(\"Absolute difference in accuracies between white and black drivers:\", \"{0}%\".format(obs * 100))"
      ],
      "execution_count": null,
      "outputs": [
        {
          "output_type": "stream",
          "text": [
            "Absolute difference in accuracies between white and black drivers: 2.5904454621149045%\n"
          ],
          "name": "stdout"
        }
      ]
    },
    {
      "cell_type": "code",
      "metadata": {
        "colab": {
          "base_uri": "https://localhost:8080/",
          "height": 298
        },
        "id": "3QzF_OlOQAnF",
        "outputId": "5c153796-36b5-46c3-9b65-663eb1273714"
      },
      "source": [
        "metrs = []\n",
        "for _ in range(5000):\n",
        "    s = (\n",
        "        oakland_searched_bw\n",
        "        .assign(race=oakland_searched_bw.subject_race.sample(frac=1.0, replace=False).tolist())\n",
        "        .groupby('race')\n",
        "        .apply(lambda x: metrics.accuracy_score(x.contraband_found, x.search_conducted))\n",
        "        .diff()\n",
        "        .iloc[-1]\n",
        "    )\n",
        "\n",
        "    # should it be absolute value of s?\n",
        "    metrs.append(s) \n",
        "    \n",
        "print(pd.Series(metrs >= obs).mean())\n",
        "pd.Series(metrs).plot(kind='hist', title='Permutation Test for accuracy of contraband prediction', alpha=0.4)\n",
        "plt.scatter(obs, 0, c='r');"
      ],
      "execution_count": null,
      "outputs": [
        {
          "output_type": "stream",
          "text": [
            "0.0004\n"
          ],
          "name": "stdout"
        },
        {
          "output_type": "display_data",
          "data": {
            "image/png": "[encoded data removed]",
            "text/plain": [
              "<Figure size 432x288 with 1 Axes>"
            ]
          },
          "metadata": {
            "tags": [],
            "needs_background": "light"
          }
        }
      ]
    },
    {
      "cell_type": "markdown",
      "metadata": {
        "id": "YpCrsuWWjJt5"
      },
      "source": [
        "Running a permutation test results in a p-value of less 1%, which leads us to reject the hypothesis that this difference in accuracies occurred by chance"
      ]
    },
    {
      "cell_type": "code",
      "metadata": {
        "colab": {
          "base_uri": "https://localhost:8080/",
          "height": 173
        },
        "id": "fzKwVp8uNcCI",
        "outputId": "fc47ef58-7538-472a-b0e1-c3c1e434e79d"
      },
      "source": [
        "pd.concat([\n",
        "    pd.crosstab(b_search['search_conducted'], b_search['search_basis'], normalize=True, margins=True),\n",
        "    pd.crosstab(w_search['search_conducted'], w_search['search_basis'], normalize=True, margins=True)    \n",
        "], axis=1, keys=['Black', 'White'])"
      ],
      "execution_count": null,
      "outputs": [
        {
          "output_type": "execute_result",
          "data": {
            "text/html": [
              "<div>\n",
              "<style scoped>\n",
              "    .dataframe tbody tr th:only-of-type {\n",
              "        vertical-align: middle;\n",
              "    }\n",
              "\n",
              "    .dataframe tbody tr th {\n",
              "        vertical-align: top;\n",
              "    }\n",
              "\n",
              "    .dataframe thead tr th {\n",
              "        text-align: left;\n",
              "    }\n",
              "\n",
              "    .dataframe thead tr:last-of-type th {\n",
              "        text-align: right;\n",
              "    }\n",
              "</style>\n",
              "<table border=\"1\" class=\"dataframe\">\n",
              "  <thead>\n",
              "    <tr>\n",
              "      <th></th>\n",
              "      <th colspan=\"4\" halign=\"left\">Black</th>\n",
              "      <th colspan=\"4\" halign=\"left\">White</th>\n",
              "    </tr>\n",
              "    <tr>\n",
              "      <th>search_basis</th>\n",
              "      <th>consent</th>\n",
              "      <th>other</th>\n",
              "      <th>probable cause</th>\n",
              "      <th>All</th>\n",
              "      <th>consent</th>\n",
              "      <th>other</th>\n",
              "      <th>probable cause</th>\n",
              "      <th>All</th>\n",
              "    </tr>\n",
              "    <tr>\n",
              "      <th>search_conducted</th>\n",
              "      <th></th>\n",
              "      <th></th>\n",
              "      <th></th>\n",
              "      <th></th>\n",
              "      <th></th>\n",
              "      <th></th>\n",
              "      <th></th>\n",
              "      <th></th>\n",
              "    </tr>\n",
              "  </thead>\n",
              "  <tbody>\n",
              "    <tr>\n",
              "      <th>True</th>\n",
              "      <td>0.023314</td>\n",
              "      <td>0.679201</td>\n",
              "      <td>0.297485</td>\n",
              "      <td>1.0</td>\n",
              "      <td>0.0325</td>\n",
              "      <td>0.678333</td>\n",
              "      <td>0.289167</td>\n",
              "      <td>1.0</td>\n",
              "    </tr>\n",
              "    <tr>\n",
              "      <th>All</th>\n",
              "      <td>0.023314</td>\n",
              "      <td>0.679201</td>\n",
              "      <td>0.297485</td>\n",
              "      <td>1.0</td>\n",
              "      <td>0.0325</td>\n",
              "      <td>0.678333</td>\n",
              "      <td>0.289167</td>\n",
              "      <td>1.0</td>\n",
              "    </tr>\n",
              "  </tbody>\n",
              "</table>\n",
              "</div>"
            ],
            "text/plain": [
              "                     Black            ...          White     \n",
              "search_basis       consent     other  ... probable cause  All\n",
              "search_conducted                      ...                    \n",
              "True              0.023314  0.679201  ...       0.289167  1.0\n",
              "All               0.023314  0.679201  ...       0.289167  1.0\n",
              "\n",
              "[2 rows x 8 columns]"
            ]
          },
          "metadata": {
            "tags": []
          },
          "execution_count": 42
        }
      ]
    },
    {
      "cell_type": "code",
      "metadata": {
        "id": "iLfND1tjDHi4"
      },
      "source": [
        ""
      ],
      "execution_count": null,
      "outputs": []
    }
  ]
}